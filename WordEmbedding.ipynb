{
 "cells": [
  {
   "cell_type": "code",
   "execution_count": 1,
   "id": "f159b650",
   "metadata": {},
   "outputs": [],
   "source": [
    "import pandas as pd\n",
    "from sklearn.feature_extraction.text import CountVectorizer\n",
    "\n",
    "from sklearn.feature_extraction.text import TfidfVectorizer\n"
   ]
  },
  {
   "cell_type": "code",
   "execution_count": 9,
   "id": "f0b3634c",
   "metadata": {},
   "outputs": [],
   "source": [
    "corpus = [\n",
    "    \"I love NLP. I love machine learning\",\n",
    "    \"I love deep learning\",\n",
    "    \"Machine learning requires data\"\n",
    "]"
   ]
  },
  {
   "cell_type": "code",
   "execution_count": 10,
   "id": "7772f3bf",
   "metadata": {},
   "outputs": [
    {
     "name": "stdout",
     "output_type": "stream",
     "text": [
      "Vocabulary: ['data' 'deep' 'learning' 'love' 'machine' 'nlp' 'requires']\n",
      "BoW Matrix:\n",
      " [[0 0 1 2 1 1 0]\n",
      " [0 1 1 1 0 0 0]\n",
      " [1 0 1 0 1 0 1]]\n"
     ]
    }
   ],
   "source": [
    "# BoW\n",
    "# Initialize CountVectorizer\n",
    "vectorizer = CountVectorizer()\n",
    "\n",
    "# Fit and transform documents into BoW\n",
    "X = vectorizer.fit_transform(corpus)\n",
    "\n",
    "# Convert to dense matrix (for readability)\n",
    "bow_matrix = X.toarray()\n",
    "\n",
    "# Get feature names (vocabulary)\n",
    "vocab = vectorizer.get_feature_names_out()\n",
    "\n",
    "print(\"Vocabulary:\", vocab)\n",
    "print(\"BoW Matrix:\\n\", bow_matrix)"
   ]
  },
  {
   "cell_type": "code",
   "execution_count": 12,
   "id": "09b62038",
   "metadata": {},
   "outputs": [
    {
     "name": "stdout",
     "output_type": "stream",
     "text": [
      "          data      deep  learning      love   machine       nlp  requires\n",
      "Doc1  0.000000  0.000000  0.286801  0.738616  0.369308  0.485596  0.000000\n",
      "Doc2  0.000000  0.720333  0.425441  0.547832  0.000000  0.000000  0.000000\n",
      "Doc3  0.584483  0.000000  0.345205  0.000000  0.444514  0.000000  0.584483\n"
     ]
    }
   ],
   "source": [
    "# TFIDF\n",
    "vectorizer = TfidfVectorizer()\n",
    "X = vectorizer.fit_transform(corpus)  # Learns vocabulary & IDF\n",
    "\n",
    "# Convert to DataFrame\n",
    "df_tfidf = pd.DataFrame(\n",
    "    X.toarray(),  # Convert sparse matrix to dense\n",
    "    columns=vectorizer.get_feature_names_out(),  # Get feature names (words)\n",
    "    index=[\"Doc1\", \"Doc2\", \"Doc3\"]  # Optional: Label documents\n",
    ")\n",
    "\n",
    "print(df_tfidf)"
   ]
  },
  {
   "cell_type": "code",
   "execution_count": null,
   "id": "03c33fc1",
   "metadata": {},
   "outputs": [
    {
     "name": "stdout",
     "output_type": "stream",
     "text": [
      "IDF values:\n",
      "data: 1.693\n",
      "deep: 1.693\n",
      "learning: 1.000\n",
      "love: 1.288\n",
      "machine: 1.288\n",
      "nlp: 1.693\n",
      "requires: 1.693\n"
     ]
    }
   ],
   "source": [
    "# Get IDF values (log-scaled)\n",
    "idf_values = vectorizer.idf_\n",
    "\n",
    "# Map IDF to words\n",
    "idf_dict = dict(zip(vectorizer.get_feature_names_out(), idf_values))\n",
    "\n",
    "print(\"IDF values:\")\n",
    "for word, idf in idf_dict.items():\n",
    "    print(f\"{word}: {idf:.3f}\")"
   ]
  },
  {
   "cell_type": "code",
   "execution_count": 14,
   "id": "a3c1e7fc",
   "metadata": {},
   "outputs": [
    {
     "name": "stdout",
     "output_type": "stream",
     "text": [
      "   data      deep  learning      love  machine  nlp  requires\n",
      "0   0.0  0.720333  0.425441  0.547832      0.0  0.0       0.0\n"
     ]
    }
   ],
   "source": [
    "query = \"I love deep learning and mango\"  # \"mango\" is new\n",
    "query_tfidf = vectorizer.transform([query])\n",
    "\n",
    "# Convert to DataFrame\n",
    "df_tfidf = pd.DataFrame(\n",
    "    query_tfidf.toarray(),  # Convert sparse matrix to dense\n",
    "    columns=vectorizer.get_feature_names_out(),  # Get feature names (words)\n",
    "    #index=[\"Doc1\", \"Doc2\", \"Doc3\"]  # Optional: Label documents\n",
    ")\n",
    "\n",
    "print(df_tfidf)"
   ]
  },
  {
   "cell_type": "code",
   "execution_count": 37,
   "id": "8f64623b",
   "metadata": {},
   "outputs": [
    {
     "data": {
      "image/png": "[encoded data removed]",
      "text/plain": [
       "<Figure size 500x200 with 2 Axes>"
      ]
     },
     "metadata": {},
     "output_type": "display_data"
    }
   ],
   "source": [
    "import seaborn as sns\n",
    "import matplotlib.pyplot as plt\n",
    "\n",
    "# Plot heatmap\n",
    "plt.figure(figsize=(5, 2))\n",
    "sns.heatmap(\n",
    "    df_tfidf, \n",
    "    annot=True,  # Show TF-IDF values\n",
    "    cmap=\"YlGnBu\",  # Color scheme\n",
    "    linewidths=0.5\n",
    ")\n",
    "plt.title(\"TF-IDF Matrix Heatmap\")\n",
    "plt.show()"
   ]
  },
  {
   "cell_type": "code",
   "execution_count": 39,
   "id": "4f6fe602",
   "metadata": {},
   "outputs": [
    {
     "name": "stdout",
     "output_type": "stream",
     "text": [
      "0.5266542768570761\n",
      "1.0\n",
      "0.14686420843059295\n"
     ]
    }
   ],
   "source": [
    "from sklearn.metrics.pairwise import cosine_similarity\n",
    "\n",
    "\n",
    "# Cosine Similarity\n",
    "for i in range(3):\n",
    "    cos_sim = cosine_similarity(X[i], query_tfidf)\n",
    "    print(cos_sim[0][0])  # Output: ~0.49"
   ]
  }
 ],
 "metadata": {
  "kernelspec": {
   "display_name": "Python 3",
   "language": "python",
   "name": "python3"
  },
  "language_info": {
   "codemirror_mode": {
    "name": "ipython",
    "version": 3
   },
   "file_extension": ".py",
   "mimetype": "text/x-python",
   "name": "python",
   "nbconvert_exporter": "python",
   "pygments_lexer": "ipython3",
   "version": "3.13.1"
  }
 },
 "nbformat": 4,
 "nbformat_minor": 5
}
