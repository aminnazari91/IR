{
 "cells": [
  {
   "cell_type": "code",
   "execution_count": 1,
   "id": "db2f385f",
   "metadata": {},
   "outputs": [
    {
     "name": "stdout",
     "output_type": "stream",
     "text": [
      "speling -> spelling\n",
      "korrect -> correct\n",
      "thn -> the\n",
      "wrriten -> written\n"
     ]
    }
   ],
   "source": [
    "import re\n",
    "\n",
    "def words(text):\n",
    "    \"\"\"Extract all words from a text (lowercase)\"\"\"\n",
    "    return re.findall(r'\\w+', text.lower())\n",
    "\n",
    "def create_word_counts(text):\n",
    "    \"\"\"Create a dictionary of word frequencies from text\"\"\"\n",
    "    word_counts = {}\n",
    "    for word in words(text):\n",
    "        word_counts[word] = word_counts.get(word, 0) + 1\n",
    "    return word_counts\n",
    "\n",
    "# Load corpus and create frequency dictionary\n",
    "with open('big.txt', 'r') as f:\n",
    "    WORDS = create_word_counts(f.read())\n",
    "\n",
    "def P(word, total_words=sum(WORDS.values())):\n",
    "    \"\"\"Probability of a word in the corpus\"\"\"\n",
    "    return WORDS.get(word, 0) / total_words\n",
    "\n",
    "def correction(word):\n",
    "    \"\"\"Most probable spelling correction for word\"\"\"\n",
    "    return max(candidates(word), key=P, default=word)\n",
    "\n",
    "def known(words):\n",
    "    \"\"\"Return the subset of words that appear in the dictionary\"\"\"\n",
    "    return set(w for w in words if w in WORDS)\n",
    "\n",
    "def candidates(word):\n",
    "    \"\"\"Generate possible spelling corrections\"\"\"\n",
    "    return (known([word]) or known(edits1(word)) or known(edits2(word)) or [word])\n",
    "\n",
    "\n",
    "\n",
    "def edits1(word):\n",
    "    \"\"\"All edits that are one edit away from word\"\"\"\n",
    "    letters = 'abcdefghijklmnopqrstuvwxyz'\n",
    "    splits = [(word[:i], word[i:]) for i in range(len(word) + 1)]\n",
    "    deletes = [L + R[1:] for L, R in splits if R]\n",
    "    transposes = [L + R[1] + R[0] + R[2:] for L, R in splits if len(R) > 1]\n",
    "    replaces = [L + c + R[1:] for L, R in splits if R for c in letters]\n",
    "    inserts = [L + c + R for L, R in splits for c in letters]\n",
    "    return set(deletes + transposes + replaces + inserts)\n",
    "\n",
    "def edits2(word):\n",
    "    \"\"\"All edits that are two edits away from word\"\"\"\n",
    "    return (e2 for e1 in edits1(word) for e2 in edits1(e1))\n",
    "\n",
    "if __name__ == \"__main__\":\n",
    "    test_words = [\"speling\", \"korrect\", \"thn\", \"wrriten\"]\n",
    "    for word in test_words:\n",
    "        print(f\"{word} -> {correction(word)}\")"
   ]
  }
 ],
 "metadata": {
  "kernelspec": {
   "display_name": "Python 3",
   "language": "python",
   "name": "python3"
  },
  "language_info": {
   "codemirror_mode": {
    "name": "ipython",
    "version": 3
   },
   "file_extension": ".py",
   "mimetype": "text/x-python",
   "name": "python",
   "nbconvert_exporter": "python",
   "pygments_lexer": "ipython3",
   "version": "3.13.1"
  }
 },
 "nbformat": 4,
 "nbformat_minor": 5
}
