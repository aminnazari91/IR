{
 "cells": [
  {
   "cell_type": "code",
   "execution_count": 1,
   "id": "5f6e14f6",
   "metadata": {},
   "outputs": [
    {
     "name": "stdout",
     "output_type": "stream",
     "text": [
      "Topics discovered by NMF:\n",
      "\n",
      "Topic #1: python, programming, language, powerful, fun\n",
      "Topic #2: cats, dogs, pets, chase, bark\n",
      "\n",
      "Document-topic distribution:\n",
      "    Topic 1   Topic 2\n",
      "0  0.049596  0.717892\n",
      "1  0.000000  0.718985\n",
      "2  0.000000  0.411200\n",
      "3  0.543100  0.070814\n",
      "4  0.545700  0.000000\n",
      "5  0.341266  0.000000\n"
     ]
    }
   ],
   "source": [
    "from sklearn.feature_extraction.text import TfidfVectorizer\n",
    "from sklearn.decomposition import NMF\n",
    "\n",
    "# Sample documents\n",
    "documents = [\n",
    "    \"Cats and dogs are popular pets.\",\n",
    "    \"Dogs bark and chase cats.\",\n",
    "    \"Cats climb trees and sleep a lot.\",\n",
    "    \"Python is a popular programming language.\",\n",
    "    \"Programming in Python is fun and powerful.\",\n",
    "    \"Many developers enjoy coding in Python.\"\n",
    "]\n",
    "\n",
    "# Step 1: Convert the documents to a TF-IDF matrix\n",
    "vectorizer = TfidfVectorizer(stop_words='english')\n",
    "tfidf = vectorizer.fit_transform(documents)\n",
    "\n",
    "# Step 2: Apply NMF\n",
    "n_topics = 2  # Number of topics\n",
    "nmf_model = NMF(n_components=n_topics, random_state=42)\n",
    "W = nmf_model.fit_transform(tfidf)  # Document-topic matrix\n",
    "H = nmf_model.components_           # Topic-term matrix\n",
    "\n",
    "# Step 3: Display top terms per topic\n",
    "feature_names = vectorizer.get_feature_names_out()\n",
    "n_top_words = 5\n",
    "\n",
    "print(\"Topics discovered by NMF:\\n\")\n",
    "for topic_idx, topic in enumerate(H):\n",
    "    top_features = [feature_names[i] for i in topic.argsort()[:-n_top_words - 1:-1]]\n",
    "    print(f\"Topic #{topic_idx + 1}: {', '.join(top_features)}\")\n",
    "\n",
    "# Optional: Show topic distribution per document\n",
    "import pandas as pd\n",
    "doc_topic_df = pd.DataFrame(W, columns=[f\"Topic {i+1}\" for i in range(n_topics)])\n",
    "print(\"\\nDocument-topic distribution:\")\n",
    "print(doc_topic_df)\n"
   ]
  },
  {
   "cell_type": "code",
   "execution_count": 2,
   "id": "0cc87dad",
   "metadata": {},
   "outputs": [
    {
     "ename": "ModuleNotFoundError",
     "evalue": "No module named 'surprise'",
     "output_type": "error",
     "traceback": [
      "\u001b[31m---------------------------------------------------------------------------\u001b[39m",
      "\u001b[31mModuleNotFoundError\u001b[39m                       Traceback (most recent call last)",
      "\u001b[36mCell\u001b[39m\u001b[36m \u001b[39m\u001b[32mIn[2]\u001b[39m\u001b[32m, line 1\u001b[39m\n\u001b[32m----> \u001b[39m\u001b[32m1\u001b[39m \u001b[38;5;28;01mfrom\u001b[39;00m\u001b[38;5;250m \u001b[39m\u001b[34;01msurprise\u001b[39;00m\u001b[38;5;250m \u001b[39m\u001b[38;5;28;01mimport\u001b[39;00m Dataset, Reader, SVD\n\u001b[32m      2\u001b[39m \u001b[38;5;28;01mfrom\u001b[39;00m\u001b[38;5;250m \u001b[39m\u001b[34;01msurprise\u001b[39;00m\u001b[34;01m.\u001b[39;00m\u001b[34;01mmodel_selection\u001b[39;00m\u001b[38;5;250m \u001b[39m\u001b[38;5;28;01mimport\u001b[39;00m train_test_split\n\u001b[32m      3\u001b[39m \u001b[38;5;28;01mfrom\u001b[39;00m\u001b[38;5;250m \u001b[39m\u001b[34;01msurprise\u001b[39;00m\u001b[38;5;250m \u001b[39m\u001b[38;5;28;01mimport\u001b[39;00m accuracy\n",
      "\u001b[31mModuleNotFoundError\u001b[39m: No module named 'surprise'"
     ]
    }
   ],
   "source": [
    "from surprise import Dataset, Reader, SVD\n",
    "from surprise.model_selection import train_test_split\n",
    "from surprise import accuracy\n",
    "import pandas as pd\n",
    "\n",
    "# Step 1: Create sample user-item rating data\n",
    "ratings_dict = {\n",
    "    \"userID\": [\"A\", \"A\", \"A\", \"B\", \"B\", \"C\", \"C\", \"D\", \"D\", \"E\"],\n",
    "    \"itemID\": [\"Item1\", \"Item2\", \"Item3\", \"Item1\", \"Item2\", \"Item2\", \"Item3\", \"Item1\", \"Item3\", \"Item2\"],\n",
    "    \"rating\": [5, 3, 4, 4, 2, 5, 3, 3, 5, 4]\n",
    "}\n",
    "df = pd.DataFrame(ratings_dict)\n",
    "\n",
    "# Step 2: Load into Surprise\n",
    "reader = Reader(rating_scale=(1, 5))\n",
    "data = Dataset.load_from_df(df[[\"userID\", \"itemID\", \"rating\"]], reader)\n",
    "\n",
    "# Step 3: Train-test split\n",
    "trainset, testset = train_test_split(data, test_size=0.25, random_state=42)\n",
    "\n",
    "# Step 4: Apply SVD (a type of matrix factorization)\n",
    "model = SVD()\n",
    "model.fit(trainset)\n",
    "\n",
    "# Step 5: Make predictions and evaluate\n",
    "predictions = model.test(testset)\n",
    "rmse = accuracy.rmse(predictions)\n",
    "\n",
    "# Step 6: Predict a specific rating\n",
    "pred = model.predict(uid=\"A\", iid=\"Item1\")\n",
    "print(f\"\\nPredicted rating of user A for Item1: {pred.est:.2f}\")\n"
   ]
  }
 ],
 "metadata": {
  "kernelspec": {
   "display_name": "Python 3",
   "language": "python",
   "name": "python3"
  },
  "language_info": {
   "codemirror_mode": {
    "name": "ipython",
    "version": 3
   },
   "file_extension": ".py",
   "mimetype": "text/x-python",
   "name": "python",
   "nbconvert_exporter": "python",
   "pygments_lexer": "ipython3",
   "version": "3.13.1"
  }
 },
 "nbformat": 4,
 "nbformat_minor": 5
}
