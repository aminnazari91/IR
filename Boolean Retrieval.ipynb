{
 "cells": [
  {
   "cell_type": "markdown",
   "metadata": {},
   "source": [
    "# Chapter 1"
   ]
  },
  {
   "cell_type": "code",
   "execution_count": 1,
   "metadata": {},
   "outputs": [],
   "source": [
    "# This dataset is include the top cited papers in machine learning.\n",
    "# title|summary|authors|year\n",
    "# You can read more on https://www.doradolist.com/papers/21-most-cited-machine-learning-papers\n",
    "# Create by A.Nazari for nlp tasks"
   ]
  },
  {
   "cell_type": "markdown",
   "metadata": {},
   "source": [
    "### Boolean retrieval\n",
    "\n",
    "### inverted index\n",
    "\n",
    "### AND (intersect), OR (union), AND NOT (difference) "
   ]
  },
  {
   "cell_type": "code",
   "execution_count": 2,
   "metadata": {},
   "outputs": [
    {
     "name": "stdout",
     "output_type": "stream",
     "text": [
      "85 \n",
      " ['deep', 'residual', 'learning', 'for', 'image', 'recognition', 'adam:', 'a', 'method', 'stochastic', 'optimization', 'imagenet', 'classification', 'with', 'convolutional', 'neural', 'networks', 'random', 'forests', 'very', 'large-scale', 'scikit-learn:', 'machine', 'in', 'python', 'support-vector', 'generative', 'adversarial', 'nets', 'faster', 'r-cnn:', 'towards', 'real-time', 'object', 'detection', 'region', 'proposal', 'libsvm:', 'library', 'support', 'vector', 'machines', 'gradient-based', 'applied', 'to', 'document', 'imagenet:', 'hierarchical', 'database', 'going', 'deeper', 'convolutions', 'latent', 'dirichlet', 'allocation', 'batch', 'normalization:', 'accelerating', 'network', 'training', 'by', 'reducing', 'internal', 'covariate', 'shift', 'tensorflow:', 'system', 'dropout:', 'simple', 'way', 'prevent', 'from', 'overfitting', 'large', 'scale', 'visual', 'challenge', 'mapreduce:', 'simplified', 'data', 'processing', 'on', 'clusters', 'bagging', 'predictors'] \n",
      " 21 \n",
      " ['deep residual learning for image recognition', 'adam: a method for stochastic optimization', 'imagenet classification with deep convolutional neural networks', 'random forests', 'very deep convolutional networks for large-scale image recognition', 'scikit-learn: machine learning in python', 'deep learning', 'support-vector networks', 'generative adversarial nets', 'faster r-cnn: towards real-time object detection with region proposal networks', 'libsvm: a library for support vector machines', 'gradient-based learning applied to document recognition', 'imagenet: a large-scale hierarchical image database', 'going deeper with convolutions', 'latent dirichlet allocation', 'batch normalization: accelerating deep network training by reducing internal covariate shift', 'tensorflow: a system for large-scale machine learning', 'dropout: a simple way to prevent neural networks from overfitting', 'imagenet large scale visual recognition challenge', 'mapreduce: simplified data processing on large clusters', 'bagging predictors']\n"
     ]
    }
   ],
   "source": [
    "# Open file and create vocab\n",
    "vocab = []\n",
    "docs = []\n",
    "filename = \"21-most-cited-machine-learning-papers_titles.txt\"\n",
    "\n",
    "with open(filename, encoding='utf-8') as f:\n",
    "    lines = f.readlines()\n",
    "    for line in lines:\n",
    "        # Word tokenization \n",
    "\n",
    "        title = line.split(\"|\")[0].lower()\n",
    "        docs.append(title)\n",
    "        for word in title.split():\n",
    "            if word not in vocab:\n",
    "                vocab.append(word)\n",
    "\n",
    "\n",
    "print(len(vocab), \"\\n\", vocab,\"\\n\", len(docs), \"\\n\", docs)"
   ]
  },
  {
   "cell_type": "code",
   "execution_count": 3,
   "metadata": {},
   "outputs": [
    {
     "name": "stdout",
     "output_type": "stream",
     "text": [
      "[[1. 0. 1. ... 0. 0. 0.]\n",
      " [1. 0. 0. ... 0. 0. 0.]\n",
      " [1. 0. 0. ... 0. 0. 0.]\n",
      " ...\n",
      " [0. 0. 0. ... 0. 1. 0.]\n",
      " [0. 0. 0. ... 0. 0. 1.]\n",
      " [0. 0. 0. ... 0. 0. 1.]]\n"
     ]
    }
   ],
   "source": [
    "# term-document matrix\n",
    "import numpy as np\n",
    "V = len(vocab)\n",
    "D = len(docs)\n",
    "matrix = np.zeros((V, D))\n",
    "\n",
    "for term_id, term in enumerate(vocab):\n",
    "    for doc_id, doc in enumerate(docs):\n",
    "        if term in doc:\n",
    "            matrix[term_id, doc_id] = 1\n",
    "\n",
    "\n",
    "print(matrix)"
   ]
  },
  {
   "cell_type": "code",
   "execution_count": 31,
   "metadata": {},
   "outputs": [
    {
     "name": "stdout",
     "output_type": "stream",
     "text": [
      "deep residual learning for image recognition\n"
     ]
    }
   ],
   "source": [
    "query =  \"Deep learning\"\n",
    "\n",
    "# Query representation\n",
    "query_terms = query.lower().split()\n",
    "query_representation = [matrix[vocab.index(i),:] for i in query_terms]\n",
    "\n",
    "oprator = \"and\" # and/or\n",
    "if oprator == \"and\":\n",
    "    relevate_docs_idx = np.ones(D)\n",
    "else: \n",
    "    relevate_docs_idx = np.zeros(D)\n",
    "    \n",
    "for rep in query_representation:\n",
    "    if oprator == \"and\":\n",
    "        relevate_docs_idx = np.logical_and(relevate_docs_idx, rep)\n",
    "    else:\n",
    "        relevate_docs_idx = np.logical_or(relevate_docs_idx, rep)\n",
    "\n",
    "\n",
    "relevate_docs = [docs[i] for i in np.where(relevate_docs_idx== True)[0]]\n",
    "for doc in relevate_docs:\n",
    "    print(doc)\n",
    "\n"
   ]
  },
  {
   "cell_type": "code",
   "execution_count": 5,
   "metadata": {},
   "outputs": [
    {
     "name": "stdout",
     "output_type": "stream",
     "text": [
      "{'deep': [0, 2, 4, 6, 13, 15], 'residual': [0], 'learning': [0, 5, 6, 11, 16], 'for': [0, 1, 3, 4, 10, 16], 'image': [0, 2, 4, 12, 18], 'recognition': [0, 4, 11, 18], 'adam:': [1], 'a': [0, 1, 2, 3, 4, 5, 6, 8, 9, 10, 11, 12, 14, 15, 16, 17, 18, 19, 20], 'method': [1], 'stochastic': [1], 'optimization': [1], 'imagenet': [2, 12, 18], 'classification': [2], 'with': [2, 9, 13], 'convolutional': [2, 4], 'neural': [2, 17], 'networks': [2, 4, 7, 9, 17], 'random': [3], 'forests': [3], 'very': [4], 'large-scale': [4, 12, 16], 'scikit-learn:': [5], 'machine': [5, 10, 16], 'in': [0, 5, 6, 10, 11, 13, 15, 16, 17, 19, 20], 'python': [5], 'support-vector': [7], 'generative': [8], 'adversarial': [8], 'nets': [8], 'faster': [9], 'r-cnn:': [9], 'towards': [9], 'real-time': [9], 'object': [9], 'detection': [9], 'region': [9], 'proposal': [9], 'libsvm:': [10], 'library': [10], 'support': [7, 10], 'vector': [7, 10], 'machines': [10], 'gradient-based': [11], 'applied': [11], 'to': [1, 7, 9, 10, 11, 17, 20], 'document': [11], 'imagenet:': [12], 'hierarchical': [12], 'database': [12], 'going': [13], 'deeper': [13], 'convolutions': [13], 'latent': [14], 'dirichlet': [14], 'allocation': [14], 'batch': [15], 'normalization:': [15], 'accelerating': [15], 'network': [2, 4, 7, 9, 15, 17], 'training': [15], 'by': [15], 'reducing': [15], 'internal': [15], 'covariate': [15], 'shift': [15], 'tensorflow:': [16], 'system': [16], 'dropout:': [17], 'simple': [17], 'way': [17], 'prevent': [17], 'from': [17], 'overfitting': [17], 'large': [4, 12, 16, 18, 19], 'scale': [4, 12, 16, 18], 'visual': [18], 'challenge': [18], 'mapreduce:': [19], 'simplified': [19], 'data': [12, 19], 'processing': [19], 'on': [0, 1, 2, 4, 5, 9, 11, 13, 14, 15, 18, 19], 'clusters': [19], 'bagging': [20], 'predictors': [20]}\n"
     ]
    }
   ],
   "source": [
    "# inverted index\n",
    "inverted_index = {}\n",
    "\n",
    "for term_id, term in enumerate(vocab):\n",
    "    for doc_id, doc in enumerate(docs):\n",
    "        if term in doc:\n",
    "            if term in inverted_index.keys():\n",
    "                inverted_index[term] = inverted_index[term] + [doc_id]\n",
    "            else:\n",
    "                inverted_index[term] = [doc_id]\n",
    "\n",
    "\n",
    "print(inverted_index)"
   ]
  },
  {
   "cell_type": "code",
   "execution_count": 32,
   "metadata": {},
   "outputs": [
    {
     "data": {
      "text/plain": [
       "[1, 3, 5]"
      ]
     },
     "execution_count": 32,
     "metadata": {},
     "output_type": "execute_result"
    }
   ],
   "source": [
    "# intersect\n",
    "def intersect(p, q):\n",
    "    intersect_list = []\n",
    "    i = j = 0\n",
    "    while (i<len(p) and j<len(q)):\n",
    "        if (p[i] == q[j]):\n",
    "            intersect_list.append(p[i])\n",
    "            i+=1\n",
    "            j+=1\n",
    "        elif p[i]<q[j]:\n",
    "            i+=1\n",
    "        else:\n",
    "            j+=1\n",
    "    \n",
    "    return intersect_list\n",
    "\n",
    "intersect([1,2,3,4,5],[1,3,5,7,9])"
   ]
  },
  {
   "cell_type": "code",
   "execution_count": 29,
   "metadata": {},
   "outputs": [
    {
     "name": "stdout",
     "output_type": "stream",
     "text": [
      "[0]\n",
      "deep residual learning for image recognition\n"
     ]
    }
   ],
   "source": [
    "query =  \"Deep learning image\"\n",
    "\n",
    "# Query preprocessing\n",
    "query_terms = query.lower().split()\n",
    "\n",
    "relevate_docs_idx = inverted_index[query_terms[0]]\n",
    "for idx in range(1, len(query_terms)):\n",
    "    relevate_docs_idx = intersect(relevate_docs_idx, inverted_index[query_terms[idx]])\n",
    "\n",
    "print(relevate_docs_idx)\n",
    "relevate_docs = [docs[i] for i in relevate_docs_idx]\n",
    "for doc in relevate_docs:\n",
    "    print(doc)"
   ]
  },
  {
   "cell_type": "code",
   "execution_count": 39,
   "metadata": {},
   "outputs": [
    {
     "data": {
      "text/plain": [
       "[1, 2, 3, 4, 5, 7, 9]"
      ]
     },
     "execution_count": 39,
     "metadata": {},
     "output_type": "execute_result"
    }
   ],
   "source": [
    "def union(p, q):\n",
    "    i = j = 0\n",
    "    union_list = []\n",
    "\n",
    "    while i < len(p) and j < len(q):\n",
    "        if p[i] < q[j]:\n",
    "            union_list.append(p[i])\n",
    "            i += 1\n",
    "        elif p[i] > q[j]:\n",
    "            union_list.append(q[j])\n",
    "            j += 1\n",
    "        else:\n",
    "            union_list.append(p[i])\n",
    "            i += 1\n",
    "            j += 1\n",
    "\n",
    "    # Add remaining elements of list1\n",
    "    while i < len(p):\n",
    "        union_list.append(p[i])\n",
    "        i += 1\n",
    "\n",
    "    # Add remaining elements of list2\n",
    "    while j < len(q):\n",
    "        union_list.append(q[j])\n",
    "        j += 1\n",
    "\n",
    "    return union_list\n",
    "\n",
    "union([1,2,3,4,5],[1,3,5,7,9])"
   ]
  },
  {
   "cell_type": "code",
   "execution_count": 40,
   "metadata": {},
   "outputs": [
    {
     "data": {
      "text/plain": [
       "[2, 4]"
      ]
     },
     "execution_count": 40,
     "metadata": {},
     "output_type": "execute_result"
    }
   ],
   "source": [
    "def difference(p, q):\n",
    "\n",
    "    i, j = 0, 0\n",
    "    difference_list = []\n",
    "\n",
    "    while i < len(p) and j < len(q):\n",
    "        if p[i] < q[j]:\n",
    "            difference_list.append(p[i])\n",
    "            i += 1\n",
    "        elif p[i] > q[j]:\n",
    "            j += 1\n",
    "        else:\n",
    "            i += 1\n",
    "            j += 1\n",
    "\n",
    "    # Add remaining elements of p\n",
    "    while i < len(p):\n",
    "        difference_list.append(p[i])\n",
    "        i += 1\n",
    "\n",
    "    return difference_list\n",
    "\n",
    "difference([1,2,3,4,5],[1,3,5,7,9])"
   ]
  },
  {
   "cell_type": "markdown",
   "metadata": {},
   "source": [
    "### Homework"
   ]
  },
  {
   "cell_type": "code",
   "execution_count": null,
   "metadata": {},
   "outputs": [],
   "source": [
    "# Homework 1:\n",
    "# Implement the optimal operation\n",
    "\n",
    "# Homework 2:\n",
    "# Apply the following queries using the above functions. \n",
    "\n",
    "# 1. Deep and (Not Learning)\n",
    "# 2. Deep or Learning\n",
    "# 3. (Deep and (Not Learning)) or image\n",
    "\n",
    "# Homework 3:\n",
    "# In the context of Boolean retrieval, consider a document collection with the following terms appearing in the documents:\n",
    "\n",
    "# Document 1: \"cat sat on the mat\"\n",
    "# Document 2: \"the dog chased the cat\"\n",
    "# Document 3: \"the mat was on the floor\"\n",
    "\n",
    "# Using Boolean retrieval, what would be the result of the query: cat AND (mat OR floor)?\n",
    "# Explain the steps involved in processing this query and list the documents that would be retrieved."
   ]
  }
 ],
 "metadata": {
  "kernelspec": {
   "display_name": "Python 3",
   "language": "python",
   "name": "python3"
  },
  "language_info": {
   "codemirror_mode": {
    "name": "ipython",
    "version": 3
   },
   "file_extension": ".py",
   "mimetype": "text/x-python",
   "name": "python",
   "nbconvert_exporter": "python",
   "pygments_lexer": "ipython3",
   "version": "3.13.2"
  },
  "orig_nbformat": 4
 },
 "nbformat": 4,
 "nbformat_minor": 2
}
